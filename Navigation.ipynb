{
 "cells": [
  {
   "cell_type": "markdown",
   "metadata": {},
   "source": [
    "# My Navigation Implementation"
   ]
  },
  {
   "cell_type": "markdown",
   "metadata": {},
   "source": [
    "First start by importing some necessary packages for training including the agent"
   ]
  },
  {
   "cell_type": "code",
   "execution_count": 1,
   "metadata": {},
   "outputs": [
    {
     "name": "stdout",
     "output_type": "stream",
     "text": [
      "Starting Agent\n"
     ]
    }
   ],
   "source": [
    "from unityagents import UnityEnvironment\n",
    "import numpy as np\n",
    "from agent import Agent\n",
    "import torch\n",
    "from collections import deque\n",
    "import matplotlib.pyplot as plt\n",
    "%matplotlib inline"
   ]
  },
  {
   "cell_type": "markdown",
   "metadata": {},
   "source": [
    "Next start up the unity environment"
   ]
  },
  {
   "cell_type": "code",
   "execution_count": 2,
   "metadata": {},
   "outputs": [
    {
     "name": "stderr",
     "output_type": "stream",
     "text": [
      "INFO:unityagents:\n",
      "'Academy' started successfully!\n",
      "Unity Academy name: Academy\n",
      "        Number of Brains: 1\n",
      "        Number of External Brains : 1\n",
      "        Lesson number : 0\n",
      "        Reset Parameters :\n",
      "\t\t\n",
      "Unity brain name: BananaBrain\n",
      "        Number of Visual Observations (per agent): 0\n",
      "        Vector Observation space type: continuous\n",
      "        Vector Observation space size (per agent): 37\n",
      "        Number of stacked Vector Observation: 1\n",
      "        Vector Action space type: discrete\n",
      "        Vector Action space size (per agent): 4\n",
      "        Vector Action descriptions: , , , \n"
     ]
    }
   ],
   "source": [
    "env = UnityEnvironment(file_name=\"Banana.app\")"
   ]
  },
  {
   "cell_type": "markdown",
   "metadata": {},
   "source": [
    "Then assign the brain to be used by the unity environment"
   ]
  },
  {
   "cell_type": "code",
   "execution_count": 3,
   "metadata": {},
   "outputs": [],
   "source": [
    "brain_name = env.brain_names[0]\n",
    "brain = env.brains[brain_name]"
   ]
  },
  {
   "cell_type": "markdown",
   "metadata": {},
   "source": [
    "Then reset the environment in order to extract some basic information"
   ]
  },
  {
   "cell_type": "code",
   "execution_count": 4,
   "metadata": {},
   "outputs": [],
   "source": [
    "env_info = env.reset(train_mode=True)[brain_name]"
   ]
  },
  {
   "cell_type": "markdown",
   "metadata": {},
   "source": [
    "Then observe the initial state to find the size of the state and action space to pass to the agent"
   ]
  },
  {
   "cell_type": "code",
   "execution_count": 5,
   "metadata": {},
   "outputs": [
    {
     "name": "stdout",
     "output_type": "stream",
     "text": [
      "state size:  37\n",
      "action size:  4\n",
      "seed:  0\n"
     ]
    }
   ],
   "source": [
    "initialState = env_info.vector_observations[0]\n",
    "\n",
    "agent = Agent(state_size=len(initialState), action_size=brain.vector_action_space_size)"
   ]
  },
  {
   "cell_type": "markdown",
   "metadata": {},
   "source": [
    "Then we define our training function which, when invoked by default, will:\n",
    " - train the agent over at most 1800 episodes (in order to pass the rubric)\n",
    " - allow the agent to collect at most 100 bananas before ending the episode (yellow or blue)\n",
    " - start epsilon for e-greedy policy at 1 which decays at a rate of 0.995 per episode until 0.01 where it will stay for the remaining episodes\n",
    " - keep track of the most recent 100 episode scores in order to track the recent average (which an avg of >=13 is the \"completion condition\")\n",
    "\n",
    "The loop per episode is making the agent come up with the next action according to the state and epsilon using its e-greedy policy.  Then the environment reflects that action and the agent observes, commits to its memory, and learns from the reward and next state that came from that state and action.  At the end of each episode information is printed regarding the current episode score, the previous 100 episode average, the total number of bananas obtained in the episode, and how many timesteps the agent took before the episode ended (due to line printing weirdness sometimes the time will look like it takes longer than it actually does).  Once the agent acheives an average of >=13 score over the last 100 episodes, it will stop training and save its weights in _checkpoint.pth_ ."
   ]
  },
  {
   "cell_type": "code",
   "execution_count": 6,
   "metadata": {},
   "outputs": [],
   "source": [
    "def train(episodes=1800, max_bananas=100, eps_start=1.0, eps_end=0.01, eps_decay=0.995):\n",
    "    scores = []\n",
    "    scores_window = deque(maxlen=100)\n",
    "    eps = eps_start\n",
    "    \n",
    "    for episode in range(1, episodes + 1):\n",
    "        env_info = env.reset(train_mode=True)[brain_name]\n",
    "        state = env_info.vector_observations[0]\n",
    "        score = 0\n",
    "        \n",
    "        bananas = 0\n",
    "        time = 0\n",
    "        while bananas < max_bananas:\n",
    "            time += 1\n",
    "            action = agent.act(state, eps)\n",
    "            \n",
    "            env_info = env.step(action)[brain_name]\n",
    "\n",
    "            next_state = env_info.vector_observations[0]   \n",
    "            reward = env_info.rewards[0]                   \n",
    "            done = env_info.local_done[0]\n",
    "            \n",
    "            agent.step(state, action, reward, next_state, done)\n",
    "            \n",
    "            state = next_state\n",
    "            score += reward\n",
    "            bananas += np.abs(reward)\n",
    "            \n",
    "            if done:\n",
    "                break\n",
    "                \n",
    "        scores_window.append(score)\n",
    "        scores.append(score)\n",
    "        eps = max(eps_end, eps_decay * eps)\n",
    "        print(\"\\rEpisode {}: Score: {}, Recent Avg Score: {:.2f}, Bananas obtained: {}, Time: {}\".format(episode, score, np.mean(scores_window), bananas, time), end='')\n",
    "        \n",
    "        if np.mean(scores_window) >= 13:\n",
    "            print(\"\\nSolved!\")\n",
    "            print(\"Got an average score (over 100 episodes) of {} in {} episodes\".format(np.mean(scores_window), episode))\n",
    "            torch.save(agent.qnetwork_local.state_dict(), 'checkpoint.pth')\n",
    "            break\n",
    "    \n",
    "    return scores"
   ]
  },
  {
   "cell_type": "markdown",
   "metadata": {},
   "source": [
    "Training is invoked and the entire scores per episode history is saved"
   ]
  },
  {
   "cell_type": "code",
   "execution_count": 7,
   "metadata": {},
   "outputs": [
    {
     "name": "stdout",
     "output_type": "stream",
     "text": [
      "Episode 535: Score: 18.0, Recent Avg Score: 13.00, Bananas obtained: 18.0, Time: 300\n",
      "Solved!\n",
      "Got an average score (over 100 episodes) of deque([14.0, 7.0, 10.0, 7.0, 9.0, 14.0, 11.0, 18.0, 14.0, 9.0, 10.0, 15.0, 9.0, 8.0, 7.0, 12.0, 11.0, 11.0, 10.0, 15.0, 14.0, 13.0, 14.0, 15.0, 12.0, 9.0, 15.0, 14.0, 11.0, 16.0, 17.0, 16.0, 8.0, 10.0, 16.0, 16.0, 14.0, 14.0, 20.0, 9.0, 20.0, 14.0, 13.0, 11.0, 16.0, 18.0, 18.0, 16.0, 17.0, 12.0, 13.0, 13.0, 12.0, 11.0, 13.0, 16.0, 11.0, 14.0, 19.0, 4.0, 15.0, 18.0, 16.0, 6.0, 13.0, 11.0, 16.0, 4.0, 8.0, 8.0, 17.0, 19.0, 6.0, 18.0, 12.0, 19.0, 8.0, 4.0, 18.0, 13.0, 16.0, 13.0, 8.0, 12.0, 16.0, 13.0, 10.0, 12.0, 12.0, 19.0, 18.0, 8.0, 14.0, 14.0, 19.0, 15.0, 16.0, 12.0, 11.0, 18.0], maxlen=100) in 535 episodes\n"
     ]
    }
   ],
   "source": [
    "#scores = train(episodes=10, max_bananas=10)  \n",
    "scores = train()"
   ]
  },
  {
   "cell_type": "markdown",
   "metadata": {},
   "source": [
    "Then we plot the scores over the episodes and should see an upwards trend"
   ]
  },
  {
   "cell_type": "code",
   "execution_count": 8,
   "metadata": {},
   "outputs": [
    {
     "data": {
      "image/png": "[encoded data removed]",
      "text/plain": [
       "<Figure size 432x288 with 1 Axes>"
      ]
     },
     "metadata": {
      "needs_background": "light"
     },
     "output_type": "display_data"
    }
   ],
   "source": [
    "plt.plot(range(1, len(scores) + 1), scores)\n",
    "plt.xlabel('Episode')\n",
    "plt.ylabel('Score')\n",
    "plt.grid(True)\n",
    "plt.title('Training Scores')\n",
    "plt.show()"
   ]
  },
  {
   "cell_type": "markdown",
   "metadata": {},
   "source": [
    "# See it in action!\n",
    "The next few cells can be optionally run to see the final version of the agent in action in a non training setting"
   ]
  },
  {
   "cell_type": "markdown",
   "metadata": {},
   "source": [
    "# (optional) Load saved checkpoint from training\n",
    "Run this next cell if you want to load alternately saved checkpoints from different training sessions"
   ]
  },
  {
   "cell_type": "code",
   "execution_count": null,
   "metadata": {},
   "outputs": [],
   "source": [
    "agent.qnetwork_local.load_state_dict(torch.load('checkpoint.pth'))"
   ]
  },
  {
   "cell_type": "markdown",
   "metadata": {},
   "source": [
    "# Run it\n",
    "Run the next cell any number of times to see the agent in action."
   ]
  },
  {
   "cell_type": "code",
   "execution_count": 10,
   "metadata": {},
   "outputs": [
    {
     "name": "stdout",
     "output_type": "stream",
     "text": [
      "Completed the episode with Score: 14.0, Total Bananas: 14.0\n"
     ]
    }
   ],
   "source": [
    "env_info = env.reset(train_mode=False)[brain_name]\n",
    "\n",
    "state = env_info.vector_observations[0]\n",
    "score = 0\n",
    "bananas = 0\n",
    "\n",
    "while True:\n",
    "    action = agent.act(state)\n",
    "            \n",
    "    env_info = env.step(action)[brain_name]\n",
    "\n",
    "    state = env_info.vector_observations[0] \n",
    "    reward = env_info.rewards[0]                   \n",
    "    done = env_info.local_done[0]\n",
    "\n",
    "    score += reward\n",
    "    bananas += np.abs(reward)\n",
    "\n",
    "    if done:\n",
    "        break\n",
    "\n",
    "print(\"Completed the episode with Score: {}, Total Bananas: {}\".format(score, bananas))"
   ]
  },
  {
   "cell_type": "code",
   "execution_count": 11,
   "metadata": {},
   "outputs": [],
   "source": [
    "env.close()"
   ]
  },
  {
   "cell_type": "code",
   "execution_count": null,
   "metadata": {},
   "outputs": [],
   "source": []
  }
 ],
 "metadata": {
  "kernelspec": {
   "display_name": "drlnd",
   "language": "python",
   "name": "drlnd"
  },
  "language_info": {
   "codemirror_mode": {
    "name": "ipython",
    "version": 3
   },
   "file_extension": ".py",
   "mimetype": "text/x-python",
   "name": "python",
   "nbconvert_exporter": "python",
   "pygments_lexer": "ipython3",
   "version": "3.6.8"
  }
 },
 "nbformat": 4,
 "nbformat_minor": 2
}
